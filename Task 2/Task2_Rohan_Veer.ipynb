{
  "nbformat": 4,
  "nbformat_minor": 0,
  "metadata": {
    "colab": {
      "provenance": []
    },
    "kernelspec": {
      "name": "python3",
      "display_name": "Python 3"
    },
    "language_info": {
      "name": "python"
    }
  },
  "cells": [
    {
      "cell_type": "markdown",
      "source": [
        "### Data Loading and Preparation"
      ],
      "metadata": {
        "id": "7FflcEgw1iAm"
      }
    },
    {
      "cell_type": "code",
      "source": [
        "import pandas as pd\n",
        "import numpy as np\n",
        "\n",
        "path = \"/content/Nat_Gas.csv\"\n",
        "try:\n",
        "    df = pd.read_csv(path, parse_dates=['Dates'], date_format=\"%m/%d/%y\")\n",
        "except Exception:\n",
        "    df = pd.read_csv(path)\n",
        "    df['Dates'] = pd.to_datetime(df.get('Dates', df.columns[0]), errors='coerce')\n",
        "\n",
        "df.columns = [c.strip() for c in df.columns]\n",
        "if 'Dates' in df.columns: df = df.rename(columns={'Dates':'Date'})\n",
        "if 'Prices' in df.columns: df = df.rename(columns={'Prices':'Price'})\n",
        "df = df.sort_values('Date').reset_index(drop=True)\n",
        "\n",
        "print(\"Loaded rows:\", len(df), \"Date range:\", df['Date'].min().date(), \"to\", df['Date'].max().date())"
      ],
      "metadata": {
        "colab": {
          "base_uri": "https://localhost:8080/"
        },
        "id": "_NWbd4-D1jMi",
        "outputId": "c81fffce-300a-42bd-fa24-ae4488780c43"
      },
      "execution_count": 1,
      "outputs": [
        {
          "output_type": "stream",
          "name": "stdout",
          "text": [
            "Loaded rows: 48 Date range: 2020-10-31 to 2024-09-30\n"
          ]
        }
      ]
    },
    {
      "cell_type": "markdown",
      "source": [
        "### Simple Price Estimator"
      ],
      "metadata": {
        "id": "8Zqb5-ms1lJc"
      }
    },
    {
      "cell_type": "code",
      "source": [
        "from sklearn.linear_model import LinearRegression\n",
        "\n",
        "\n",
        "start = df['Date'].min()\n",
        "days = (df['Date'] - start).dt.days.values.reshape(-1, 1)\n",
        "trend_model = LinearRegression().fit(days, df['Price'].values)\n",
        "\n",
        "def get_price(date):\n",
        "    \"\"\"Return estimated price for any date (pd.Timestamp or string).\"\"\"\n",
        "    date = pd.to_datetime(date)\n",
        "    end = df['Date'].max()\n",
        "    if date <= end:\n",
        "\n",
        "        daily = df.set_index('Date').reindex(pd.date_range(start, end, freq='D'))\n",
        "        daily['Price'] = daily['Price'].interpolate()\n",
        "        return float(daily.loc[date, 'Price'])\n",
        "    else:\n",
        "\n",
        "        d = (date - start).days\n",
        "        return float(trend_model.predict([[d]])[0])"
      ],
      "metadata": {
        "id": "9XKG9rEW1nIP"
      },
      "execution_count": 2,
      "outputs": []
    },
    {
      "cell_type": "markdown",
      "source": [
        "### Storage Contract Pricing"
      ],
      "metadata": {
        "id": "-onEsrHU1q7y"
      }
    },
    {
      "cell_type": "code",
      "source": [
        "def price_storage_contract(injection_events, withdrawal_events,\n",
        "                           max_volume=1e6,\n",
        "                           storage_fee_per_month_per_1e6=100000,\n",
        "                           inj_withdraw_fee_per_1e6=10000,\n",
        "                           transport_fee_per_transaction=50000):\n",
        "    \"\"\"\n",
        "    injection_events: list of (date, volume)\n",
        "    withdrawal_events: list of (date, volume)\n",
        "    volumes in same units as max_volume (e.g., MMBtu)\n",
        "    Fees default shown can be overridden.\n",
        "    Returns dict of cashflows and net value.\n",
        "    \"\"\"\n",
        "    inj = sorted([(pd.to_datetime(d), float(v)) for d,v in injection_events], key=lambda x: x[0])\n",
        "    wdr = sorted([(pd.to_datetime(d), float(v)) for d,v in withdrawal_events], key=lambda x: x[0])\n",
        "\n",
        "    if sum(v for _,v in inj) < sum(v for _,v in wdr):\n",
        "        return {\"error\":\"Total withdrawal volume exceeds injected volume (infeasible)\"}\n",
        "\n",
        "    inventory = [[d, v, get_price(d)] for d,v in inj]\n",
        "\n",
        "    total_cost = total_proceed = total_storage_cost = total_inj_withdraw_fees = total_transport_fees = 0.0\n",
        "\n",
        "    for wd_date, wd_vol in wdr:\n",
        "        remain = wd_vol\n",
        "        sell_price = get_price(wd_date)\n",
        "        while remain > 0 and inventory:\n",
        "            in_date, in_rem, in_price = inventory[0]\n",
        "            take = min(remain, in_rem)\n",
        "            # cashflows\n",
        "            total_cost += take * in_price\n",
        "            total_proceed += take * sell_price\n",
        "            # storage fee: pro-rata by days held (30 days ~ 1 month)\n",
        "            days_held = max(0, (wd_date - in_date).days)\n",
        "            months = days_held / 30.0\n",
        "            total_storage_cost += storage_fee_per_month_per_1e6 * months * (take / 1e6)\n",
        "            # injection/withdraw fee (per volume)\n",
        "            total_inj_withdraw_fees += inj_withdraw_fee_per_1e6 * (take / 1e6)\n",
        "            # transport fees: simple fixed cost counted once per matched withdrawal batch (in+out simplified)\n",
        "            total_transport_fees += 2 * transport_fee_per_transaction\n",
        "            # update inventory\n",
        "            inventory[0][1] -= take\n",
        "            if inventory[0][1] <= 1e-9:\n",
        "                inventory.pop(0)\n",
        "            remain -= take\n",
        "\n",
        "    net_value = total_proceed - total_cost - total_storage_cost - total_inj_withdraw_fees - total_transport_fees\n",
        "\n",
        "    return {\n",
        "        \"total_cost_buy\": round(total_cost,2),\n",
        "        \"total_proceed_sell\": round(total_proceed,2),\n",
        "        \"storage_costs\": round(total_storage_cost,2),\n",
        "        \"inj_withdraw_fees\": round(total_inj_withdraw_fees,2),\n",
        "        \"transport_fees\": round(total_transport_fees,2),\n",
        "        \"net_value\": round(net_value,2)\n",
        "    }"
      ],
      "metadata": {
        "id": "3xAhvBiC1rr8"
      },
      "execution_count": 3,
      "outputs": []
    },
    {
      "cell_type": "markdown",
      "source": [
        "### Example Usage"
      ],
      "metadata": {
        "id": "gHIq3qMN1unm"
      }
    },
    {
      "cell_type": "code",
      "source": [
        "# show example prices\n",
        "print(\"Example price checks:\")\n",
        "print(\"  Price 2024-06-01:\", round(get_price(\"2024-06-01\"), 2))\n",
        "print(\"  Price 2024-12-01:\", round(get_price(\"2024-12-01\"), 2))\n",
        "inj_events = [(\"2024-06-01\", 1e6)]\n",
        "wdr_events = [(\"2024-12-01\", 1e6)]\n",
        "val = price_storage_contract(inj_events, wdr_events)\n",
        "print(\"\\nContract valuation (example):\")\n",
        "for k,v in val.items():\n",
        "    print(f\"  {k}: {v}\")"
      ],
      "metadata": {
        "colab": {
          "base_uri": "https://localhost:8080/"
        },
        "id": "ntSvNKkN1xhn",
        "outputId": "fabc24cf-d180-4ff7-8ff4-7489dc18fe2b"
      },
      "execution_count": 4,
      "outputs": [
        {
          "output_type": "stream",
          "name": "stdout",
          "text": [
            "Example price checks:\n",
            "  Price 2024-06-01: 11.4\n",
            "  Price 2024-12-01: 12.2\n",
            "\n",
            "Contract valuation (example):\n",
            "  total_cost_buy: 11403333.33\n",
            "  total_proceed_sell: 12204342.54\n",
            "  storage_costs: 610000.0\n",
            "  inj_withdraw_fees: 10000.0\n",
            "  transport_fees: 100000.0\n",
            "  net_value: 81009.2\n"
          ]
        }
      ]
    }
  ]
}